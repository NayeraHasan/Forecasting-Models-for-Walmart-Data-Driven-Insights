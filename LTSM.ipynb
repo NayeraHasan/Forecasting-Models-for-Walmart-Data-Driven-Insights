{
  "nbformat": 4,
  "nbformat_minor": 0,
  "metadata": {
    "colab": {
      "provenance": [],
      "include_colab_link": true
    },
    "kernelspec": {
      "name": "python3",
      "display_name": "Python 3"
    },
    "language_info": {
      "name": "python"
    }
  },
  "cells": [
    {
      "cell_type": "markdown",
      "metadata": {
        "id": "view-in-github",
        "colab_type": "text"
      },
      "source": [
        "<a href=\"https://colab.research.google.com/github/NayeraHasan/Forecasting-Models-for-Walmart-Data-Driven-Insights/blob/main/LTSM.ipynb\" target=\"_parent\"><img src=\"https://colab.research.google.com/assets/colab-badge.svg\" alt=\"Open In Colab\"/></a>"
      ]
    },
    {
      "cell_type": "markdown",
      "source": [
        "To try:\n",
        "change data scaling.\n",
        "scale date and time, scale the sales data which is not a target."
      ],
      "metadata": {
        "id": "iEfwiRBt6Nc2"
      }
    },
    {
      "cell_type": "code",
      "execution_count": null,
      "metadata": {
        "id": "J6G6levoMYDw",
        "colab": {
          "base_uri": "https://localhost:8080/"
        },
        "outputId": "5903dbac-7c71-4448-db2b-02b63174187d"
      },
      "outputs": [
        {
          "output_type": "stream",
          "name": "stdout",
          "text": [
            "Requirement already satisfied: kaggle in /usr/local/lib/python3.10/dist-packages (1.6.17)\n",
            "Requirement already satisfied: six>=1.10 in /usr/local/lib/python3.10/dist-packages (from kaggle) (1.16.0)\n",
            "Requirement already satisfied: certifi>=2023.7.22 in /usr/local/lib/python3.10/dist-packages (from kaggle) (2024.8.30)\n",
            "Requirement already satisfied: python-dateutil in /usr/local/lib/python3.10/dist-packages (from kaggle) (2.8.2)\n",
            "Requirement already satisfied: requests in /usr/local/lib/python3.10/dist-packages (from kaggle) (2.32.3)\n",
            "Requirement already satisfied: tqdm in /usr/local/lib/python3.10/dist-packages (from kaggle) (4.66.6)\n",
            "Requirement already satisfied: python-slugify in /usr/local/lib/python3.10/dist-packages (from kaggle) (8.0.4)\n",
            "Requirement already satisfied: urllib3 in /usr/local/lib/python3.10/dist-packages (from kaggle) (2.2.3)\n",
            "Requirement already satisfied: bleach in /usr/local/lib/python3.10/dist-packages (from kaggle) (6.2.0)\n",
            "Requirement already satisfied: webencodings in /usr/local/lib/python3.10/dist-packages (from bleach->kaggle) (0.5.1)\n",
            "Requirement already satisfied: text-unidecode>=1.3 in /usr/local/lib/python3.10/dist-packages (from python-slugify->kaggle) (1.3)\n",
            "Requirement already satisfied: charset-normalizer<4,>=2 in /usr/local/lib/python3.10/dist-packages (from requests->kaggle) (3.4.0)\n",
            "Requirement already satisfied: idna<4,>=2.5 in /usr/local/lib/python3.10/dist-packages (from requests->kaggle) (3.10)\n",
            "Requirement already satisfied: kagglehub in /usr/local/lib/python3.10/dist-packages (0.3.4)\n",
            "Requirement already satisfied: packaging in /usr/local/lib/python3.10/dist-packages (from kagglehub) (24.2)\n",
            "Requirement already satisfied: requests in /usr/local/lib/python3.10/dist-packages (from kagglehub) (2.32.3)\n",
            "Requirement already satisfied: tqdm in /usr/local/lib/python3.10/dist-packages (from kagglehub) (4.66.6)\n",
            "Requirement already satisfied: charset-normalizer<4,>=2 in /usr/local/lib/python3.10/dist-packages (from requests->kagglehub) (3.4.0)\n",
            "Requirement already satisfied: idna<4,>=2.5 in /usr/local/lib/python3.10/dist-packages (from requests->kagglehub) (3.10)\n",
            "Requirement already satisfied: urllib3<3,>=1.21.1 in /usr/local/lib/python3.10/dist-packages (from requests->kagglehub) (2.2.3)\n",
            "Requirement already satisfied: certifi>=2017.4.17 in /usr/local/lib/python3.10/dist-packages (from requests->kagglehub) (2024.8.30)\n",
            "Requirement already satisfied: scipy in /usr/local/lib/python3.10/dist-packages (1.14.1)\n",
            "Requirement already satisfied: numpy<2.3,>=1.23.5 in /usr/local/lib/python3.10/dist-packages (from scipy) (1.26.4)\n"
          ]
        }
      ],
      "source": [
        "!pip install kaggle\n",
        "!pip install kagglehub\n",
        "!pip install --upgrade scipy"
      ]
    },
    {
      "cell_type": "code",
      "source": [
        "import kagglehub\n",
        "path = kagglehub.dataset_download(\"aslanahmedov/walmart-sales-forecast\")\n",
        "import os\n",
        "\n",
        "for file_name in os.listdir(path):\n",
        "    print(file_name)"
      ],
      "metadata": {
        "id": "u-_vPwdeMjhK",
        "colab": {
          "base_uri": "https://localhost:8080/"
        },
        "outputId": "957e4312-3907-4149-89f7-1eecbfab8af4"
      },
      "execution_count": null,
      "outputs": [
        {
          "output_type": "stream",
          "name": "stdout",
          "text": [
            "test.csv\n",
            "train.csv\n",
            "features.csv\n",
            "stores.csv\n"
          ]
        }
      ]
    },
    {
      "cell_type": "code",
      "source": [
        "import pandas as pd\n",
        "\n",
        "# Load each dataset\n",
        "features = pd.read_csv(f\"{path}/features.csv\")\n",
        "test = pd.read_csv(f\"{path}/test.csv\")\n",
        "stores = pd.read_csv(f\"{path}/stores.csv\")\n",
        "train = pd.read_csv(f\"{path}/train.csv\")\n",
        "\n",
        "# Display the first few rows of each dataset to understand structure\n",
        "print(\"Features Dataset:\")\n",
        "print(features.head())\n",
        "\n",
        "print(\"\\nTest Dataset:\")\n",
        "print(test.head())\n",
        "\n",
        "print(\"\\nStores Dataset:\")\n",
        "print(stores.head())\n",
        "\n",
        "print(\"\\nTrain Dataset:\")\n",
        "print(train.head())"
      ],
      "metadata": {
        "id": "5UWSJQh9Mlht",
        "colab": {
          "base_uri": "https://localhost:8080/"
        },
        "outputId": "5478ee27-8d60-4315-d722-466285666e09"
      },
      "execution_count": null,
      "outputs": [
        {
          "output_type": "stream",
          "name": "stdout",
          "text": [
            "Features Dataset:\n",
            "   Store        Date  Temperature  Fuel_Price  MarkDown1  MarkDown2  \\\n",
            "0      1  2010-02-05        42.31       2.572        NaN        NaN   \n",
            "1      1  2010-02-12        38.51       2.548        NaN        NaN   \n",
            "2      1  2010-02-19        39.93       2.514        NaN        NaN   \n",
            "3      1  2010-02-26        46.63       2.561        NaN        NaN   \n",
            "4      1  2010-03-05        46.50       2.625        NaN        NaN   \n",
            "\n",
            "   MarkDown3  MarkDown4  MarkDown5         CPI  Unemployment  IsHoliday  \n",
            "0        NaN        NaN        NaN  211.096358         8.106      False  \n",
            "1        NaN        NaN        NaN  211.242170         8.106       True  \n",
            "2        NaN        NaN        NaN  211.289143         8.106      False  \n",
            "3        NaN        NaN        NaN  211.319643         8.106      False  \n",
            "4        NaN        NaN        NaN  211.350143         8.106      False  \n",
            "\n",
            "Test Dataset:\n",
            "   Store  Dept        Date  IsHoliday\n",
            "0      1     1  2012-11-02      False\n",
            "1      1     1  2012-11-09      False\n",
            "2      1     1  2012-11-16      False\n",
            "3      1     1  2012-11-23       True\n",
            "4      1     1  2012-11-30      False\n",
            "\n",
            "Stores Dataset:\n",
            "   Store Type    Size\n",
            "0      1    A  151315\n",
            "1      2    A  202307\n",
            "2      3    B   37392\n",
            "3      4    A  205863\n",
            "4      5    B   34875\n",
            "\n",
            "Train Dataset:\n",
            "   Store  Dept        Date  Weekly_Sales  IsHoliday\n",
            "0      1     1  2010-02-05      24924.50      False\n",
            "1      1     1  2010-02-12      46039.49       True\n",
            "2      1     1  2010-02-19      41595.55      False\n",
            "3      1     1  2010-02-26      19403.54      False\n",
            "4      1     1  2010-03-05      21827.90      False\n"
          ]
        }
      ]
    },
    {
      "cell_type": "code",
      "source": [
        "#Change the problem to weekly sales per store, not per department per store per week\n",
        "train = train.groupby(['Store', 'Date'])['Weekly_Sales'].sum().reset_index()\n",
        "\n",
        "print(train.head())"
      ],
      "metadata": {
        "id": "2SOb3DwKM0o6",
        "colab": {
          "base_uri": "https://localhost:8080/"
        },
        "outputId": "518a7f21-5274-4110-8fdb-7184336b3861"
      },
      "execution_count": null,
      "outputs": [
        {
          "output_type": "stream",
          "name": "stdout",
          "text": [
            "   Store        Date  Weekly_Sales\n",
            "0      1  2010-02-05    1643690.90\n",
            "1      1  2010-02-12    1641957.44\n",
            "2      1  2010-02-19    1611968.17\n",
            "3      1  2010-02-26    1409727.59\n",
            "4      1  2010-03-05    1554806.68\n"
          ]
        }
      ]
    },
    {
      "cell_type": "code",
      "source": [
        "#Complete Dataframe\n",
        "merged_data = pd.merge(train, features, on=['Store', 'Date'], how='left')\n",
        "merged_data = pd.merge(merged_data, stores, on=['Store'], how='left')\n",
        "merged_data = merged_data.drop(columns = ['Temperature', 'Fuel_Price', 'CPI', 'Unemployment' ])\n",
        "# merged_data['Date'] = pd.to_datetime(merged_data['Date'], errors='coerce')\n",
        "\n",
        "merged_data['MarkDown1'] = merged_data['MarkDown1'].fillna(0)\n",
        "merged_data['MarkDown2'] = merged_data['MarkDown2'].fillna(0)\n",
        "merged_data['MarkDown3'] = merged_data['MarkDown3'].fillna(0)\n",
        "merged_data['MarkDown4'] = merged_data['MarkDown4'].fillna(0)\n",
        "merged_data['MarkDown5'] = merged_data['MarkDown5'].fillna(0)\n",
        "merged_data['IsHoliday'] = merged_data['IsHoliday'].astype(int)\n",
        "print(merged_data.head())"
      ],
      "metadata": {
        "id": "Yxm3MAvqM4fx",
        "colab": {
          "base_uri": "https://localhost:8080/"
        },
        "outputId": "6e5bbdc2-d9b8-426a-dcbd-3b2010d694dc"
      },
      "execution_count": null,
      "outputs": [
        {
          "output_type": "stream",
          "name": "stdout",
          "text": [
            "   Store        Date  Weekly_Sales  MarkDown1  MarkDown2  MarkDown3  \\\n",
            "0      1  2010-02-05    1643690.90        0.0        0.0        0.0   \n",
            "1      1  2010-02-12    1641957.44        0.0        0.0        0.0   \n",
            "2      1  2010-02-19    1611968.17        0.0        0.0        0.0   \n",
            "3      1  2010-02-26    1409727.59        0.0        0.0        0.0   \n",
            "4      1  2010-03-05    1554806.68        0.0        0.0        0.0   \n",
            "\n",
            "   MarkDown4  MarkDown5  IsHoliday Type    Size  \n",
            "0        0.0        0.0          0    A  151315  \n",
            "1        0.0        0.0          1    A  151315  \n",
            "2        0.0        0.0          0    A  151315  \n",
            "3        0.0        0.0          0    A  151315  \n",
            "4        0.0        0.0          0    A  151315  \n"
          ]
        }
      ]
    },
    {
      "cell_type": "code",
      "source": [
        "# Ensure the 'Date' column is in datetime format\n",
        "for df in [merged_data]:\n",
        "    df['Date'] = pd.to_datetime(df['Date'])  # Convert to datetime if not already\n",
        "    df['Year'] = df['Date'].dt.year\n",
        "    df['Month'] = df['Date'].dt.month\n",
        "    df['Day'] = df['Date'].dt.day\n",
        "merged_data = merged_data.drop(columns=\"Date\")"
      ],
      "metadata": {
        "id": "SirC8Kr6ocxe"
      },
      "execution_count": null,
      "outputs": []
    },
    {
      "cell_type": "code",
      "source": [
        "del features\n",
        "del train\n",
        "del test\n",
        "del stores"
      ],
      "metadata": {
        "id": "0al7zRJR8RqV"
      },
      "execution_count": null,
      "outputs": []
    },
    {
      "cell_type": "code",
      "source": [
        "#Encode Data\n",
        "from sklearn.preprocessing import OneHotEncoder\n",
        "import numpy as np\n",
        "categorical_features = ['Type']\n",
        "\n",
        "# Create a OneHotEncoder object\n",
        "encoder = OneHotEncoder(sparse_output=False, handle_unknown='ignore', drop = 'first') # sparse=False for dense output\n",
        "# Fit the encoder on the categorical features\n",
        "encoder.fit(merged_data[categorical_features])\n",
        "# Transform the categorical features into one-hot encoded columns\n",
        "encoded_features = encoder.transform(merged_data[categorical_features])\n",
        "\n",
        "# Create a DataFrame from the encoded features\n",
        "encoded_df = pd.DataFrame(encoded_features, columns=encoder.get_feature_names_out(categorical_features))\n",
        "# Concatenate the encoded features with the original DataFrame\n",
        "merged_data = pd.concat([merged_data, encoded_df], axis=1)\n",
        "# Drop the original categorical columns\n",
        "merged_data = merged_data.drop(categorical_features, axis=1)"
      ],
      "metadata": {
        "id": "I6ESS3DWNNPY"
      },
      "execution_count": null,
      "outputs": []
    },
    {
      "cell_type": "code",
      "source": [
        "# Calculate the total number of NaN values in the DataFrame\n",
        "total_nan_count = merged_data.isna().sum().sum()\n",
        "\n",
        "\n",
        "print(\"Total NaN values:\", total_nan_count)"
      ],
      "metadata": {
        "id": "guIIl1kJXjJr",
        "colab": {
          "base_uri": "https://localhost:8080/"
        },
        "outputId": "ccd5fb1f-f5b1-4a90-b4d4-9b6a8df54827"
      },
      "execution_count": null,
      "outputs": [
        {
          "output_type": "stream",
          "name": "stdout",
          "text": [
            "Total NaN values: 0\n"
          ]
        }
      ]
    },
    {
      "cell_type": "code",
      "source": [
        "#Split the data\n",
        "from sklearn.model_selection import train_test_split\n",
        "train_data = pd.DataFrame()\n",
        "val_data = pd.DataFrame()\n",
        "test_data = pd.DataFrame()\n",
        "\n",
        "for store_id in merged_data['Store'].unique():\n",
        "    #Split the data into training and testing sets\n",
        "    store_df = merged_data[merged_data['Store'] == store_id].copy()\n",
        "    train, test = train_test_split(store_df, test_size=0.2, random_state=42)  # Adjust test_size as needed\n",
        "    # Further split train_data into train and validation sets\n",
        "    train, val = train_test_split(train, test_size=0.3, random_state=42)  # Adjust test_size as needed\n",
        "\n",
        "    #print(train.shape)\n",
        "    #print(val.shape)\n",
        "    #print(test.shape)\n",
        "    #(79, 12)\n",
        "    #(35, 12)\n",
        "    #(29, 12)\n",
        "\n",
        "    train_data = train_data._append(train)\n",
        "    #print(train_data.head())\n",
        "    val_data = val_data._append(val)\n",
        "    test_data = test_data._append(test)\n",
        "\n",
        "print(train_data.shape)\n",
        "print(val_data.shape)\n",
        "print(test_data.shape)\n",
        "train_data = train_data.sort_values(by=['Store', 'Year','Month','Day'])\n",
        "val_data = val_data.sort_values(by=['Store', 'Year','Month','Day'])\n",
        "test_data = test_data.sort_values(by=['Store', 'Year','Month','Day'])\n",
        "print(train_data.head())\n"
      ],
      "metadata": {
        "id": "XdBdMNganb-e",
        "colab": {
          "base_uri": "https://localhost:8080/"
        },
        "outputId": "67afe4ea-8d3e-4383-edd1-f87d04f4001b"
      },
      "execution_count": null,
      "outputs": [
        {
          "output_type": "stream",
          "name": "stdout",
          "text": [
            "(3555, 14)\n",
            "(1575, 14)\n",
            "(1305, 14)\n",
            "   Store  Weekly_Sales  MarkDown1  MarkDown2  MarkDown3  MarkDown4  MarkDown5  \\\n",
            "0      1    1643690.90        0.0        0.0        0.0        0.0        0.0   \n",
            "1      1    1641957.44        0.0        0.0        0.0        0.0        0.0   \n",
            "3      1    1409727.59        0.0        0.0        0.0        0.0        0.0   \n",
            "5      1    1439541.59        0.0        0.0        0.0        0.0        0.0   \n",
            "7      1    1404429.92        0.0        0.0        0.0        0.0        0.0   \n",
            "\n",
            "   IsHoliday    Size  Year  Month  Day  Type_B  Type_C  \n",
            "0          0  151315  2010      2    5     0.0     0.0  \n",
            "1          1  151315  2010      2   12     0.0     0.0  \n",
            "3          0  151315  2010      2   26     0.0     0.0  \n",
            "5          0  151315  2010      3   12     0.0     0.0  \n",
            "7          0  151315  2010      3   26     0.0     0.0  \n"
          ]
        }
      ]
    },
    {
      "cell_type": "code",
      "source": [
        "from sklearn.preprocessing import StandardScaler\n",
        "import pandas as pd\n",
        "\n",
        "# Scale the features\n",
        "scaled_train = train_data.copy()\n",
        "scaled_val = val_data.copy()\n",
        "scaled_test = test_data.copy()\n",
        "\n",
        "# Initialize separate scalers\n",
        "train_sc = StandardScaler()\n",
        "val_sc = StandardScaler()\n",
        "test_sc = StandardScaler()\n",
        "\n",
        "# Fit and transform the datasets with their respective scalers\n",
        "scaled_train = train_sc.fit_transform(scaled_train)\n",
        "scaled_val = val_sc.fit_transform(scaled_val)\n",
        "scaled_test = test_sc.fit_transform(scaled_test)\n",
        "\n",
        "# Convert scaled arrays back to DataFrames with proper column names\n",
        "scaled_train = pd.DataFrame(scaled_train, columns=train_data.columns)\n",
        "scaled_val = pd.DataFrame(scaled_val, columns=val_data.columns)\n",
        "scaled_test = pd.DataFrame(scaled_test, columns=test_data.columns)\n",
        "\n",
        "# Final validation\n",
        "print(\"Scaled Train Shape:\", scaled_train.shape)\n",
        "print(\"Scaled Validation Shape:\", scaled_val.shape)\n",
        "print(\"Scaled Test Shape:\", scaled_test.shape)\n",
        "\n",
        "print(scaled_train.head())\n",
        "print(scaled_val.head())\n",
        "print(scaled_test.head())\n"
      ],
      "metadata": {
        "colab": {
          "base_uri": "https://localhost:8080/"
        },
        "id": "A-VYmv0eo_mS",
        "outputId": "4d06febb-4b96-4717-c6c3-2e59a91a3a37"
      },
      "execution_count": null,
      "outputs": [
        {
          "output_type": "stream",
          "name": "stdout",
          "text": [
            "Scaled Train Shape: (3555, 14)\n",
            "Scaled Validation Shape: (1575, 14)\n",
            "Scaled Test Shape: (1305, 14)\n",
            "      Store  Weekly_Sales  MarkDown1  MarkDown2  MarkDown3  MarkDown4  \\\n",
            "0 -1.693979      1.042087   -0.38003  -0.186023  -0.094812  -0.264958   \n",
            "1 -1.693979      1.039052   -0.38003  -0.186023  -0.094812  -0.264958   \n",
            "2 -1.693979      0.632414   -0.38003  -0.186023  -0.094812  -0.264958   \n",
            "3 -1.693979      0.684618   -0.38003  -0.186023  -0.094812  -0.264958   \n",
            "4 -1.693979      0.623137   -0.38003  -0.186023  -0.094812  -0.264958   \n",
            "\n",
            "   MarkDown5  IsHoliday      Size     Year     Month       Day    Type_B  \\\n",
            "0  -0.382431  -0.335673  0.333175 -1.19576 -1.264880 -1.239444 -0.779194   \n",
            "1  -0.382431   2.979094  0.333175 -1.19576 -1.264880 -0.434969 -0.779194   \n",
            "2  -0.382431  -0.335673  0.333175 -1.19576 -1.264880  1.173980 -0.779194   \n",
            "3  -0.382431  -0.335673  0.333175 -1.19576 -0.969242 -0.434969 -0.779194   \n",
            "4  -0.382431  -0.335673  0.333175 -1.19576 -0.969242  1.173980 -0.779194   \n",
            "\n",
            "     Type_C  \n",
            "0 -0.392232  \n",
            "1 -0.392232  \n",
            "2 -0.392232  \n",
            "3 -0.392232  \n",
            "4 -0.392232  \n",
            "      Store  Weekly_Sales  MarkDown1  MarkDown2  MarkDown3  MarkDown4  \\\n",
            "0 -1.693979      1.099933  -0.560329  -0.140748  -0.288501  -0.407747   \n",
            "1 -1.693979      0.839461  -0.560329  -0.140748  -0.288501  -0.407747   \n",
            "2 -1.693979      0.880060  -0.560329  -0.140748  -0.288501  -0.407747   \n",
            "3 -1.693979      0.763916  -0.560329  -0.140748  -0.288501  -0.407747   \n",
            "4 -1.693979      0.746436  -0.560329  -0.140748  -0.288501  -0.407747   \n",
            "\n",
            "   MarkDown5  IsHoliday      Size      Year     Month       Day    Type_B  \\\n",
            "0  -0.409808  -0.171499  0.333175 -1.207615 -1.810205  0.224351 -0.779194   \n",
            "1  -0.409808  -0.171499  0.333175 -1.207615 -1.473198  0.224351 -0.779194   \n",
            "2  -0.409808  -0.171499  0.333175 -1.207615 -0.799186 -0.379672 -0.779194   \n",
            "3  -0.409808  -0.171499  0.333175 -1.207615 -0.799186  1.311593 -0.779194   \n",
            "4  -0.409808  -0.171499  0.333175 -1.207615 -0.462180  0.949179 -0.779194   \n",
            "\n",
            "     Type_C  \n",
            "0 -0.392232  \n",
            "1 -0.392232  \n",
            "2 -0.392232  \n",
            "3 -0.392232  \n",
            "4 -0.392232  \n",
            "      Store  Weekly_Sales  MarkDown1  MarkDown2  MarkDown3  MarkDown4  \\\n",
            "0 -1.693979      0.835587  -0.457498  -0.165326  -0.162561  -0.396785   \n",
            "1 -1.693979      0.819358  -0.457498  -0.165326  -0.162561  -0.396785   \n",
            "2 -1.693979      0.552854  -0.457498  -0.165326  -0.162561  -0.396785   \n",
            "3 -1.693979      0.611362  -0.457498  -0.165326  -0.162561  -0.396785   \n",
            "4 -1.693979      0.814418  -0.457498  -0.165326  -0.162561  -0.396785   \n",
            "\n",
            "   MarkDown5  IsHoliday      Size      Year     Month       Day    Type_B  \\\n",
            "0  -0.376151  -0.188982  0.333175 -1.262337 -0.965381 -0.951031 -0.779194   \n",
            "1  -0.376151  -0.188982  0.333175 -1.262337 -0.619751 -0.509753 -0.779194   \n",
            "2  -0.376151  -0.188982  0.333175 -1.262337 -0.619751  1.034722 -0.779194   \n",
            "3  -0.376151  -0.188982  0.333175 -1.262337 -0.619751  1.806959 -0.779194   \n",
            "4  -0.376151  -0.188982  0.333175 -1.262337  0.071510 -0.289113 -0.779194   \n",
            "\n",
            "     Type_C  \n",
            "0 -0.392232  \n",
            "1 -0.392232  \n",
            "2 -0.392232  \n",
            "3 -0.392232  \n",
            "4 -0.392232  \n"
          ]
        }
      ]
    },
    {
      "cell_type": "code",
      "source": [],
      "metadata": {
        "id": "-pQS7Hq3faw1"
      },
      "execution_count": null,
      "outputs": []
    },
    {
      "cell_type": "code",
      "source": [
        "#Create Model architecture\n",
        "from keras.models import Sequential\n",
        "from keras.layers import Dense\n",
        "from sklearn.metrics import mean_squared_error\n",
        "from keras.layers import LSTM\n",
        "from keras.layers import Input\n",
        "from keras.layers import Dropout\n",
        "\n",
        "dropout_rates = [.1, .15, .3]\n",
        "batches = [75, 100, 120]\n",
        "input_shape = [40,50,60,70]\n",
        "\n",
        "model = Sequential()\n",
        "input = model.add(Input(shape=(50, 14)))\n",
        "model.add(LSTM(75, activation='tanh', dropout = .1))\n",
        "#model.add(LSTM(100, activation='tanh', return_sequences=True))#per store, I will make 75 seperate sequences of 50 timestamps with 14 features per timestamp\n",
        "#model.add(LSTM(100))#just more compelexity, do not use this layer\n",
        "model.add(Dense(1))\n",
        "#model.add(Dropout(0.2))#Add dropout within LSTM layer\n",
        "model.compile(optimizer = 'adam', loss='mean_squared_error', metrics=['mean_absolute_error'])"
      ],
      "metadata": {
        "id": "DTvIeMMaQVzY"
      },
      "execution_count": null,
      "outputs": []
    },
    {
      "cell_type": "code",
      "source": [
        "import numpy as np\n",
        "\n",
        "def create_dataset(dataset, look_back, target_column='Weekly_Sales'):\n",
        "    if len(dataset) <= look_back:\n",
        "        raise ValueError(\"Dataset length must be greater than look_back.\")\n",
        "\n",
        "    input_sequences, target_values = [], []\n",
        "\n",
        "    # Separate target and features\n",
        "    targets = dataset[target_column].copy()\n",
        "    features = dataset.copy()\n",
        "\n",
        "    # Create sequences\n",
        "    for i in range(len(dataset) - look_back):\n",
        "        segment_start = i\n",
        "        segment_end = i + look_back\n",
        "\n",
        "        # Append feature sequences\n",
        "        input_sequences.append(features.iloc[segment_start:segment_end].values)\n",
        "\n",
        "        # Append the corresponding target value\n",
        "        target_values.append(targets.iloc[segment_end])\n",
        "\n",
        "    return np.array(input_sequences), np.array(target_values)\n"
      ],
      "metadata": {
        "id": "Jz4v1GoEjYLk"
      },
      "execution_count": null,
      "outputs": []
    },
    {
      "cell_type": "code",
      "source": [
        "#Validate that no data went missing or was duplicated\n",
        "train_data_features, train_data_target = create_dataset(scaled_train,50)\n",
        "test_data_features, test_data_target = create_dataset(scaled_test,50)\n",
        "val_data_features, val_data_target = create_dataset(scaled_val,50)\n",
        "print(test_data_features.shape)\n",
        "print(test_data_target.shape)\n",
        "print(val_data_features.shape)\n",
        "print(val_data_target.shape)\n",
        "print(train_data_features.shape)\n",
        "print(train_data_target.shape)"
      ],
      "metadata": {
        "id": "WMX1axIe-qus",
        "colab": {
          "base_uri": "https://localhost:8080/"
        },
        "outputId": "54fb7e75-19a2-41ea-f314-930ac0128bcb"
      },
      "execution_count": null,
      "outputs": [
        {
          "output_type": "stream",
          "name": "stdout",
          "text": [
            "(1255, 50, 14)\n",
            "(1255,)\n",
            "(1525, 50, 14)\n",
            "(1525,)\n",
            "(3505, 50, 14)\n",
            "(3505,)\n"
          ]
        }
      ]
    },
    {
      "cell_type": "code",
      "source": [
        "print(\"Features dtype:\", train_data_features.dtype)\n",
        "print(\"Target dtype:\", train_data_target.dtype)\n",
        "print(\"Validation Features dtype:\", val_data_features.dtype)\n",
        "print(\"Validation Target dtype:\", val_data_target.dtype)\n"
      ],
      "metadata": {
        "colab": {
          "base_uri": "https://localhost:8080/"
        },
        "id": "PycJOMVbmdZM",
        "outputId": "bfd79945-fa0a-4e02-baad-a761d799c5b3"
      },
      "execution_count": null,
      "outputs": [
        {
          "output_type": "stream",
          "name": "stdout",
          "text": [
            "Features dtype: float64\n",
            "Target dtype: float64\n",
            "Validation Features dtype: float64\n",
            "Validation Target dtype: float64\n"
          ]
        }
      ]
    },
    {
      "cell_type": "code",
      "source": [
        "print(test_data_features[5])\n",
        "print(test_data_target[5])"
      ],
      "metadata": {
        "id": "SkQ-CB8rwvzW",
        "colab": {
          "base_uri": "https://localhost:8080/"
        },
        "outputId": "1b95850b-17bc-45d7-b635-c0c6dfc6e28a"
      },
      "execution_count": null,
      "outputs": [
        {
          "output_type": "stream",
          "name": "stdout",
          "text": [
            "[[-1.69397911  0.74651901 -0.45749838 -0.16532599 -0.16256103 -0.3967854\n",
            "  -0.37615138 -0.18898224  0.33317532 -1.26233749  0.07150969  0.48312378\n",
            "  -0.77919372 -0.39223227]\n",
            " [-1.69397911  0.92320778 -0.45749838 -0.16532599 -0.16256103 -0.3967854\n",
            "  -0.37615138 -0.18898224  0.33317532 -1.26233749  0.76277007 -0.84071146\n",
            "  -0.77919372 -0.39223227]\n",
            " [-1.69397911  0.75508258 -0.45749838 -0.16532599 -0.16256103 -0.3967854\n",
            "  -0.37615138 -0.18898224  0.33317532 -1.26233749  0.76277007 -0.06847424\n",
            "  -0.77919372 -0.39223227]\n",
            " [-1.69397911  1.41683261 -0.45749838 -0.16532599 -0.16256103 -0.3967854\n",
            "  -0.37615138 -0.18898224  0.33317532 -1.26233749  2.14529083  0.37280417\n",
            "  -0.77919372 -0.39223227]\n",
            " [-1.69397911  0.42431152 -0.45749838 -0.16532599 -0.16256103 -0.3967854\n",
            "  -0.37615138 -0.18898224  0.33317532  0.04508348 -1.65664125  1.5863198\n",
            "  -0.77919372 -0.39223227]\n",
            " [-1.69397911  0.66616146 -0.45749838 -0.16532599 -0.16256103 -0.3967854\n",
            "  -0.37615138 -0.18898224  0.33317532  0.04508348 -1.31101106  1.255361\n",
            "  -0.77919372 -0.39223227]\n",
            " [-1.69397911  0.97640339 -0.45749838 -0.16532599 -0.16256103 -0.3967854\n",
            "  -0.37615138 -0.18898224  0.33317532  0.04508348 -0.96538087 -1.06135066\n",
            "  -0.77919372 -0.39223227]\n",
            " [-1.69397911  0.66320605 -0.45749838 -0.16532599 -0.16256103 -0.3967854\n",
            "  -0.37615138 -0.18898224  0.33317532  0.04508348 -0.61975068  1.69663941\n",
            "  -0.77919372 -0.39223227]\n",
            " [-1.69397911  0.96452338 -0.45749838 -0.16532599 -0.16256103 -0.3967854\n",
            "  -0.37615138 -0.18898224  0.33317532  0.04508348 -0.27412049 -0.84071146\n",
            "  -0.77919372 -0.39223227]\n",
            " [-1.69397911  0.92196967 -0.45749838 -0.16532599 -0.16256103 -0.3967854\n",
            "  -0.37615138 -0.18898224  0.33317532  0.04508348 -0.27412049 -0.06847424\n",
            "  -0.77919372 -0.39223227]\n",
            " [-1.69397911  0.97435485 -0.45749838 -0.16532599 -0.16256103 -0.3967854\n",
            "  -0.37615138 -0.18898224  0.33317532  0.04508348  0.07150969 -1.17167026\n",
            "  -0.77919372 -0.39223227]\n",
            " [-1.69397911  0.72102732 -0.45749838 -0.16532599 -0.16256103 -0.3967854\n",
            "  -0.37615138 -0.18898224  0.33317532  0.04508348  0.41713988 -1.39230947\n",
            "  -0.77919372 -0.39223227]\n",
            " [-1.69397911  0.95586675 -0.45749838 -0.16532599 -0.16256103 -0.3967854\n",
            "  -0.37615138 -0.18898224  0.33317532  0.04508348  0.76277007 -0.95103106\n",
            "  -0.77919372 -0.39223227]\n",
            " [-1.69397911  0.82767416 -0.45749838 -0.16532599 -0.16256103 -0.3967854\n",
            "  -0.37615138 -0.18898224  0.33317532  0.04508348  1.10840026 -1.28198987\n",
            "  -0.77919372 -0.39223227]\n",
            " [-1.69397911  1.66280514 -0.35892717 -0.14404121  4.67776977 -0.39137783\n",
            "  -0.20686302  5.29150262  0.33317532  0.04508348  1.79966064  1.255361\n",
            "  -0.77919372 -0.39223227]\n",
            " [-1.69397911  1.39979042  0.74640085 -0.15077415 -0.13243165 -0.24416334\n",
            "   0.84758945 -0.18898224  0.33317532  0.04508348  2.14529083  0.26248457\n",
            "  -0.77919372 -0.39223227]\n",
            " [-1.69397911  0.82791739  1.05055638  4.57231029 -0.15014915  0.58342554\n",
            "   2.2117409  -0.18898224  0.33317532  1.35250445 -1.65664125 -0.84071146\n",
            "  -0.77919372 -0.39223227]\n",
            " [-1.69397911  1.04764295  0.57507418 -0.16369705 -0.16238583  1.44493344\n",
            "   0.23938138 -0.18898224  0.33317532  1.35250445 -0.96538087  0.26248457\n",
            "  -0.77919372 -0.39223227]\n",
            " [-1.69397911  1.43177214  1.97416271 -0.16532599 -0.15579738  2.13841445\n",
            "   0.99992518 -0.18898224  0.33317532  1.35250445 -0.61975068 -0.84071146\n",
            "  -0.77919372 -0.39223227]\n",
            " [-1.69397911  1.05982562  4.65715624 -0.16532599 -0.15649907  2.96763912\n",
            "   0.61868774 -0.18898224  0.33317532  1.35250445 -0.27412049 -1.06135066\n",
            "  -0.77919372 -0.39223227]\n",
            " [-1.69397911  0.90662949  1.02094729 -0.16532599 -0.15864838  0.73575694\n",
            "   1.30421836 -0.18898224  0.33317532  1.35250445 -0.27412049  0.48312378\n",
            "  -0.77919372 -0.39223227]\n",
            " [-1.69397911  0.81071932  0.49521254 -0.13022782 -0.16256103 -0.1020793\n",
            "   0.90909117 -0.18898224  0.33317532  1.35250445  0.07150969  1.69663941\n",
            "  -0.77919372 -0.39223227]\n",
            " [-1.69397911  0.90059296  2.2898928  -0.11211404 -0.16196689  4.31068486\n",
            "   1.09922483 -0.18898224  0.33317532  1.35250445  0.76277007 -0.39943304\n",
            "  -0.77919372 -0.39223227]\n",
            " [-1.69397911  0.91002847  0.42226009 -0.13538395 -0.16214123  1.46355578\n",
            "   0.67515888 -0.18898224  0.33317532  1.35250445  0.76277007  0.37280417\n",
            "  -0.77919372 -0.39223227]\n",
            " [-1.61698006  1.58966716 -0.45749838 -0.16532599 -0.16256103 -0.3967854\n",
            "  -0.37615138 -0.18898224  1.14113426 -1.26233749 -0.96538087 -0.95103106\n",
            "  -0.77919372 -0.39223227]\n",
            " [-1.61698006  1.52687319 -0.45749838 -0.16532599 -0.16256103 -0.3967854\n",
            "  -0.37615138 -0.18898224  1.14113426 -1.26233749 -0.61975068 -0.50975265\n",
            "  -0.77919372 -0.39223227]\n",
            " [-1.61698006  1.2974747  -0.45749838 -0.16532599 -0.16256103 -0.3967854\n",
            "  -0.37615138 -0.18898224  1.14113426 -1.26233749 -0.61975068  1.03472179\n",
            "  -0.77919372 -0.39223227]\n",
            " [-1.61698006  1.26369436 -0.45749838 -0.16532599 -0.16256103 -0.3967854\n",
            "  -0.37615138 -0.18898224  1.14113426 -1.26233749 -0.61975068  1.80695901\n",
            "  -0.77919372 -0.39223227]\n",
            " [-1.61698006  1.64935239 -0.45749838 -0.16532599 -0.16256103 -0.3967854\n",
            "  -0.37615138 -0.18898224  1.14113426 -1.26233749  0.07150969 -0.28911344\n",
            "  -0.77919372 -0.39223227]\n",
            " [-1.61698006  1.60803282 -0.45749838 -0.16532599 -0.16256103 -0.3967854\n",
            "  -0.37615138 -0.18898224  1.14113426 -1.26233749  0.07150969  0.48312378\n",
            "  -0.77919372 -0.39223227]\n",
            " [-1.61698006  1.59121757 -0.45749838 -0.16532599 -0.16256103 -0.3967854\n",
            "  -0.37615138 -0.18898224  1.14113426 -1.26233749  0.76277007 -0.84071146\n",
            "  -0.77919372 -0.39223227]\n",
            " [-1.61698006  1.42472617 -0.45749838 -0.16532599 -0.16256103 -0.3967854\n",
            "  -0.37615138 -0.18898224  1.14113426 -1.26233749  0.76277007 -0.06847424\n",
            "  -0.77919372 -0.39223227]\n",
            " [-1.61698006  2.65828315 -0.45749838 -0.16532599 -0.16256103 -0.3967854\n",
            "  -0.37615138 -0.18898224  1.14113426 -1.26233749  2.14529083  0.37280417\n",
            "  -0.77919372 -0.39223227]\n",
            " [-1.61698006  1.07858517 -0.45749838 -0.16532599 -0.16256103 -0.3967854\n",
            "  -0.37615138 -0.18898224  1.14113426  0.04508348 -1.65664125  1.5863198\n",
            "  -0.77919372 -0.39223227]\n",
            " [-1.61698006  1.31738985 -0.45749838 -0.16532599 -0.16256103 -0.3967854\n",
            "  -0.37615138 -0.18898224  1.14113426  0.04508348 -1.31101106  1.255361\n",
            "  -0.77919372 -0.39223227]\n",
            " [-1.61698006  1.57340792 -0.45749838 -0.16532599 -0.16256103 -0.3967854\n",
            "  -0.37615138 -0.18898224  1.14113426  0.04508348 -0.96538087 -1.06135066\n",
            "  -0.77919372 -0.39223227]\n",
            " [-1.61698006  1.1653214  -0.45749838 -0.16532599 -0.16256103 -0.3967854\n",
            "  -0.37615138 -0.18898224  1.14113426  0.04508348 -0.61975068  1.69663941\n",
            "  -0.77919372 -0.39223227]\n",
            " [-1.61698006  1.3247067  -0.45749838 -0.16532599 -0.16256103 -0.3967854\n",
            "  -0.37615138 -0.18898224  1.14113426  0.04508348 -0.27412049 -0.84071146\n",
            "  -0.77919372 -0.39223227]\n",
            " [-1.61698006  1.3260369  -0.45749838 -0.16532599 -0.16256103 -0.3967854\n",
            "  -0.37615138 -0.18898224  1.14113426  0.04508348 -0.27412049 -0.06847424\n",
            "  -0.77919372 -0.39223227]\n",
            " [-1.61698006  1.49068584 -0.45749838 -0.16532599 -0.16256103 -0.3967854\n",
            "  -0.37615138 -0.18898224  1.14113426  0.04508348  0.07150969 -1.17167026\n",
            "  -0.77919372 -0.39223227]\n",
            " [-1.61698006  1.37397425 -0.45749838 -0.16532599 -0.16256103 -0.3967854\n",
            "  -0.37615138 -0.18898224  1.14113426  0.04508348  0.41713988 -1.39230947\n",
            "  -0.77919372 -0.39223227]\n",
            " [-1.61698006  1.39205886 -0.45749838 -0.16532599 -0.16256103 -0.3967854\n",
            "  -0.37615138 -0.18898224  1.14113426  0.04508348  0.76277007 -0.95103106\n",
            "  -0.77919372 -0.39223227]\n",
            " [-1.61698006  1.27522392 -0.45749838 -0.16532599 -0.16256103 -0.3967854\n",
            "  -0.37615138 -0.18898224  1.14113426  0.04508348  1.10840026 -1.28198987\n",
            "  -0.77919372 -0.39223227]\n",
            " [-1.61698006  2.66698822 -0.23655097 -0.15186011  6.55522938 -0.38123862\n",
            "   0.10873293  5.29150262  1.14113426  0.04508348  1.79966064  1.255361\n",
            "  -0.77919372 -0.39223227]\n",
            " [-1.61698006  2.35328427  0.72177906 -0.15207079 -0.13294165 -0.07922553\n",
            "   1.07117382 -0.18898224  1.14113426  0.04508348  2.14529083  0.26248457\n",
            "  -0.77919372 -0.39223227]\n",
            " [-1.61698006  1.25862895  0.9567034   7.96943318 -0.15205213  1.21799777\n",
            "   1.7910429  -0.18898224  1.14113426  1.35250445 -1.65664125 -0.84071146\n",
            "  -0.77919372 -0.39223227]\n",
            " [-1.61698006  1.56385561  0.9757469  -0.11528069 -0.16230082  1.39499448\n",
            "   0.25650179 -0.18898224  1.14113426  1.35250445 -0.96538087  0.26248457\n",
            "  -0.77919372 -0.39223227]\n",
            " [-1.61698006  1.82827023  2.45718591 -0.16504364 -0.15973518  2.89824641\n",
            "   1.31243994 -0.18898224  1.14113426  1.35250445 -0.61975068 -0.84071146\n",
            "  -0.77919372 -0.39223227]\n",
            " [-1.61698006  1.47374589  5.24365388 -0.16532599 -0.15578784  4.96443371\n",
            "   0.97942461 -0.18898224  1.14113426  1.35250445 -0.27412049 -1.06135066\n",
            "  -0.77919372 -0.39223227]\n",
            " [-1.61698006  1.60682912  1.76759582 -0.16532599 -0.15886002  2.10070337\n",
            "   1.03082552 -0.18898224  1.14113426  1.35250445 -0.27412049  0.48312378\n",
            "  -0.77919372 -0.39223227]]\n",
            "1.399564732596429\n"
          ]
        }
      ]
    },
    {
      "cell_type": "code",
      "source": [
        "train_data_features = train_data_features.astype('float32')\n",
        "train_data_target = train_data_target.astype('float32')\n",
        "val_data_features = val_data_features.astype('float32')\n",
        "val_data_target = val_data_target.astype('float32')\n"
      ],
      "metadata": {
        "id": "6o8u8g4tmxdz"
      },
      "execution_count": null,
      "outputs": []
    },
    {
      "cell_type": "code",
      "source": [
        "!pip install tensorflow\n",
        "import tensorflow as tf\n",
        "from tensorflow import keras\n",
        "#Record how the model improves over epochs\n",
        "#Run the model with 50 epochs\n",
        "mae_scores = []\n",
        "history = model.fit(\n",
        "    train_data_features,\n",
        "    train_data_target,\n",
        "    epochs=50,\n",
        "    validation_data=(val_data_features, val_data_target),\n",
        "    verbose=2,\n",
        "    shuffle=False,\n",
        "    callbacks=[\n",
        "        keras.callbacks.LambdaCallback(\n",
        "            on_epoch_end=lambda epoch, logs: mae_scores.append(logs['val_mean_absolute_error'])\n",
        "        )\n",
        "    ]\n",
        ")\n",
        "#history = model.fit(train_data_features,train_data_target, epochs=50, validation_data=(val_data_features, val_data_target), verbose=2, shuffle=False)\n",
        "target_pred = model.predict(test_data_features)\n"
      ],
      "metadata": {
        "colab": {
          "base_uri": "https://localhost:8080/"
        },
        "id": "MkcUGayIaG-C",
        "outputId": "191d5002-0077-4d6e-dc01-46d4e893008d"
      },
      "execution_count": null,
      "outputs": [
        {
          "output_type": "stream",
          "name": "stdout",
          "text": [
            "Requirement already satisfied: tensorflow in /usr/local/lib/python3.10/dist-packages (2.17.1)\n",
            "Requirement already satisfied: absl-py>=1.0.0 in /usr/local/lib/python3.10/dist-packages (from tensorflow) (1.4.0)\n",
            "Requirement already satisfied: astunparse>=1.6.0 in /usr/local/lib/python3.10/dist-packages (from tensorflow) (1.6.3)\n",
            "Requirement already satisfied: flatbuffers>=24.3.25 in /usr/local/lib/python3.10/dist-packages (from tensorflow) (24.3.25)\n",
            "Requirement already satisfied: gast!=0.5.0,!=0.5.1,!=0.5.2,>=0.2.1 in /usr/local/lib/python3.10/dist-packages (from tensorflow) (0.6.0)\n",
            "Requirement already satisfied: google-pasta>=0.1.1 in /usr/local/lib/python3.10/dist-packages (from tensorflow) (0.2.0)\n",
            "Requirement already satisfied: h5py>=3.10.0 in /usr/local/lib/python3.10/dist-packages (from tensorflow) (3.12.1)\n",
            "Requirement already satisfied: libclang>=13.0.0 in /usr/local/lib/python3.10/dist-packages (from tensorflow) (18.1.1)\n",
            "Requirement already satisfied: ml-dtypes<0.5.0,>=0.3.1 in /usr/local/lib/python3.10/dist-packages (from tensorflow) (0.4.1)\n",
            "Requirement already satisfied: opt-einsum>=2.3.2 in /usr/local/lib/python3.10/dist-packages (from tensorflow) (3.4.0)\n",
            "Requirement already satisfied: packaging in /usr/local/lib/python3.10/dist-packages (from tensorflow) (24.2)\n",
            "Requirement already satisfied: protobuf!=4.21.0,!=4.21.1,!=4.21.2,!=4.21.3,!=4.21.4,!=4.21.5,<5.0.0dev,>=3.20.3 in /usr/local/lib/python3.10/dist-packages (from tensorflow) (4.25.5)\n",
            "Requirement already satisfied: requests<3,>=2.21.0 in /usr/local/lib/python3.10/dist-packages (from tensorflow) (2.32.3)\n",
            "Requirement already satisfied: setuptools in /usr/local/lib/python3.10/dist-packages (from tensorflow) (75.1.0)\n",
            "Requirement already satisfied: six>=1.12.0 in /usr/local/lib/python3.10/dist-packages (from tensorflow) (1.16.0)\n",
            "Requirement already satisfied: termcolor>=1.1.0 in /usr/local/lib/python3.10/dist-packages (from tensorflow) (2.5.0)\n",
            "Requirement already satisfied: typing-extensions>=3.6.6 in /usr/local/lib/python3.10/dist-packages (from tensorflow) (4.12.2)\n",
            "Requirement already satisfied: wrapt>=1.11.0 in /usr/local/lib/python3.10/dist-packages (from tensorflow) (1.17.0)\n",
            "Requirement already satisfied: grpcio<2.0,>=1.24.3 in /usr/local/lib/python3.10/dist-packages (from tensorflow) (1.68.1)\n",
            "Requirement already satisfied: tensorboard<2.18,>=2.17 in /usr/local/lib/python3.10/dist-packages (from tensorflow) (2.17.1)\n",
            "Requirement already satisfied: keras>=3.2.0 in /usr/local/lib/python3.10/dist-packages (from tensorflow) (3.5.0)\n",
            "Requirement already satisfied: tensorflow-io-gcs-filesystem>=0.23.1 in /usr/local/lib/python3.10/dist-packages (from tensorflow) (0.37.1)\n",
            "Requirement already satisfied: numpy<2.0.0,>=1.23.5 in /usr/local/lib/python3.10/dist-packages (from tensorflow) (1.26.4)\n",
            "Requirement already satisfied: wheel<1.0,>=0.23.0 in /usr/local/lib/python3.10/dist-packages (from astunparse>=1.6.0->tensorflow) (0.45.1)\n",
            "Requirement already satisfied: rich in /usr/local/lib/python3.10/dist-packages (from keras>=3.2.0->tensorflow) (13.9.4)\n",
            "Requirement already satisfied: namex in /usr/local/lib/python3.10/dist-packages (from keras>=3.2.0->tensorflow) (0.0.8)\n",
            "Requirement already satisfied: optree in /usr/local/lib/python3.10/dist-packages (from keras>=3.2.0->tensorflow) (0.13.1)\n",
            "Requirement already satisfied: charset-normalizer<4,>=2 in /usr/local/lib/python3.10/dist-packages (from requests<3,>=2.21.0->tensorflow) (3.4.0)\n",
            "Requirement already satisfied: idna<4,>=2.5 in /usr/local/lib/python3.10/dist-packages (from requests<3,>=2.21.0->tensorflow) (3.10)\n",
            "Requirement already satisfied: urllib3<3,>=1.21.1 in /usr/local/lib/python3.10/dist-packages (from requests<3,>=2.21.0->tensorflow) (2.2.3)\n",
            "Requirement already satisfied: certifi>=2017.4.17 in /usr/local/lib/python3.10/dist-packages (from requests<3,>=2.21.0->tensorflow) (2024.8.30)\n",
            "Requirement already satisfied: markdown>=2.6.8 in /usr/local/lib/python3.10/dist-packages (from tensorboard<2.18,>=2.17->tensorflow) (3.7)\n",
            "Requirement already satisfied: tensorboard-data-server<0.8.0,>=0.7.0 in /usr/local/lib/python3.10/dist-packages (from tensorboard<2.18,>=2.17->tensorflow) (0.7.2)\n",
            "Requirement already satisfied: werkzeug>=1.0.1 in /usr/local/lib/python3.10/dist-packages (from tensorboard<2.18,>=2.17->tensorflow) (3.1.3)\n",
            "Requirement already satisfied: MarkupSafe>=2.1.1 in /usr/local/lib/python3.10/dist-packages (from werkzeug>=1.0.1->tensorboard<2.18,>=2.17->tensorflow) (3.0.2)\n",
            "Requirement already satisfied: markdown-it-py>=2.2.0 in /usr/local/lib/python3.10/dist-packages (from rich->keras>=3.2.0->tensorflow) (3.0.0)\n",
            "Requirement already satisfied: pygments<3.0.0,>=2.13.0 in /usr/local/lib/python3.10/dist-packages (from rich->keras>=3.2.0->tensorflow) (2.18.0)\n",
            "Requirement already satisfied: mdurl~=0.1 in /usr/local/lib/python3.10/dist-packages (from markdown-it-py>=2.2.0->rich->keras>=3.2.0->tensorflow) (0.1.2)\n",
            "Epoch 1/50\n",
            "110/110 - 14s - 125ms/step - loss: 0.3869 - mean_absolute_error: 0.4269 - val_loss: 0.2802 - val_mean_absolute_error: 0.3745\n",
            "Epoch 2/50\n",
            "110/110 - 6s - 51ms/step - loss: 0.2383 - mean_absolute_error: 0.3299 - val_loss: 0.1783 - val_mean_absolute_error: 0.2772\n",
            "Epoch 3/50\n",
            "110/110 - 3s - 28ms/step - loss: 0.1895 - mean_absolute_error: 0.2738 - val_loss: 0.1518 - val_mean_absolute_error: 0.2592\n",
            "Epoch 4/50\n",
            "110/110 - 4s - 35ms/step - loss: 0.1918 - mean_absolute_error: 0.2750 - val_loss: 0.1479 - val_mean_absolute_error: 0.2601\n",
            "Epoch 5/50\n",
            "110/110 - 4s - 35ms/step - loss: 0.1559 - mean_absolute_error: 0.2495 - val_loss: 0.1453 - val_mean_absolute_error: 0.2573\n",
            "Epoch 6/50\n",
            "110/110 - 3s - 27ms/step - loss: 0.1545 - mean_absolute_error: 0.2498 - val_loss: 0.1411 - val_mean_absolute_error: 0.2596\n",
            "Epoch 7/50\n",
            "110/110 - 5s - 48ms/step - loss: 0.1550 - mean_absolute_error: 0.2485 - val_loss: 0.1362 - val_mean_absolute_error: 0.2511\n",
            "Epoch 8/50\n",
            "110/110 - 5s - 45ms/step - loss: 0.1462 - mean_absolute_error: 0.2439 - val_loss: 0.1325 - val_mean_absolute_error: 0.2508\n",
            "Epoch 9/50\n",
            "110/110 - 3s - 27ms/step - loss: 0.1403 - mean_absolute_error: 0.2383 - val_loss: 0.1372 - val_mean_absolute_error: 0.2529\n",
            "Epoch 10/50\n",
            "110/110 - 6s - 52ms/step - loss: 0.1471 - mean_absolute_error: 0.2424 - val_loss: 0.1366 - val_mean_absolute_error: 0.2473\n",
            "Epoch 11/50\n",
            "110/110 - 4s - 37ms/step - loss: 0.1296 - mean_absolute_error: 0.2309 - val_loss: 0.1381 - val_mean_absolute_error: 0.2549\n",
            "Epoch 12/50\n",
            "110/110 - 3s - 28ms/step - loss: 0.1378 - mean_absolute_error: 0.2363 - val_loss: 0.1406 - val_mean_absolute_error: 0.2581\n",
            "Epoch 13/50\n",
            "110/110 - 5s - 46ms/step - loss: 0.1248 - mean_absolute_error: 0.2241 - val_loss: 0.1345 - val_mean_absolute_error: 0.2472\n",
            "Epoch 14/50\n",
            "110/110 - 5s - 47ms/step - loss: 0.1301 - mean_absolute_error: 0.2278 - val_loss: 0.1370 - val_mean_absolute_error: 0.2494\n",
            "Epoch 15/50\n",
            "110/110 - 5s - 47ms/step - loss: 0.1175 - mean_absolute_error: 0.2224 - val_loss: 0.1382 - val_mean_absolute_error: 0.2498\n",
            "Epoch 16/50\n",
            "110/110 - 4s - 33ms/step - loss: 0.1191 - mean_absolute_error: 0.2182 - val_loss: 0.1379 - val_mean_absolute_error: 0.2457\n",
            "Epoch 17/50\n",
            "110/110 - 4s - 36ms/step - loss: 0.1082 - mean_absolute_error: 0.2120 - val_loss: 0.1366 - val_mean_absolute_error: 0.2493\n",
            "Epoch 18/50\n",
            "110/110 - 3s - 28ms/step - loss: 0.1140 - mean_absolute_error: 0.2112 - val_loss: 0.1260 - val_mean_absolute_error: 0.2340\n",
            "Epoch 19/50\n",
            "110/110 - 3s - 28ms/step - loss: 0.0929 - mean_absolute_error: 0.1992 - val_loss: 0.1436 - val_mean_absolute_error: 0.2539\n",
            "Epoch 20/50\n",
            "110/110 - 7s - 62ms/step - loss: 0.1082 - mean_absolute_error: 0.2072 - val_loss: 0.1277 - val_mean_absolute_error: 0.2389\n",
            "Epoch 21/50\n",
            "110/110 - 3s - 27ms/step - loss: 0.1031 - mean_absolute_error: 0.2034 - val_loss: 0.1451 - val_mean_absolute_error: 0.2515\n",
            "Epoch 22/50\n",
            "110/110 - 5s - 46ms/step - loss: 0.0964 - mean_absolute_error: 0.2005 - val_loss: 0.1370 - val_mean_absolute_error: 0.2497\n",
            "Epoch 23/50\n",
            "110/110 - 4s - 36ms/step - loss: 0.1018 - mean_absolute_error: 0.1994 - val_loss: 0.1208 - val_mean_absolute_error: 0.2258\n",
            "Epoch 24/50\n",
            "110/110 - 5s - 42ms/step - loss: 0.0921 - mean_absolute_error: 0.1950 - val_loss: 0.1409 - val_mean_absolute_error: 0.2573\n",
            "Epoch 25/50\n",
            "110/110 - 4s - 33ms/step - loss: 0.0865 - mean_absolute_error: 0.1903 - val_loss: 0.1274 - val_mean_absolute_error: 0.2285\n",
            "Epoch 26/50\n",
            "110/110 - 6s - 55ms/step - loss: 0.0870 - mean_absolute_error: 0.1940 - val_loss: 0.1382 - val_mean_absolute_error: 0.2544\n",
            "Epoch 27/50\n",
            "110/110 - 4s - 33ms/step - loss: 0.0916 - mean_absolute_error: 0.1897 - val_loss: 0.1208 - val_mean_absolute_error: 0.2249\n",
            "Epoch 28/50\n",
            "110/110 - 3s - 27ms/step - loss: 0.0773 - mean_absolute_error: 0.1743 - val_loss: 0.1287 - val_mean_absolute_error: 0.2339\n",
            "Epoch 29/50\n",
            "110/110 - 5s - 49ms/step - loss: 0.0945 - mean_absolute_error: 0.1866 - val_loss: 0.1253 - val_mean_absolute_error: 0.2329\n",
            "Epoch 30/50\n",
            "110/110 - 5s - 45ms/step - loss: 0.0903 - mean_absolute_error: 0.1801 - val_loss: 0.1235 - val_mean_absolute_error: 0.2312\n",
            "Epoch 31/50\n",
            "110/110 - 5s - 46ms/step - loss: 0.0704 - mean_absolute_error: 0.1636 - val_loss: 0.1247 - val_mean_absolute_error: 0.2330\n",
            "Epoch 32/50\n",
            "110/110 - 7s - 60ms/step - loss: 0.0796 - mean_absolute_error: 0.1790 - val_loss: 0.1263 - val_mean_absolute_error: 0.2362\n",
            "Epoch 33/50\n",
            "110/110 - 4s - 33ms/step - loss: 0.0806 - mean_absolute_error: 0.1692 - val_loss: 0.1198 - val_mean_absolute_error: 0.2238\n",
            "Epoch 34/50\n",
            "110/110 - 5s - 46ms/step - loss: 0.0703 - mean_absolute_error: 0.1678 - val_loss: 0.1288 - val_mean_absolute_error: 0.2336\n",
            "Epoch 35/50\n",
            "110/110 - 5s - 47ms/step - loss: 0.0802 - mean_absolute_error: 0.1691 - val_loss: 0.1185 - val_mean_absolute_error: 0.2322\n",
            "Epoch 36/50\n",
            "110/110 - 3s - 28ms/step - loss: 0.0692 - mean_absolute_error: 0.1598 - val_loss: 0.1202 - val_mean_absolute_error: 0.2259\n",
            "Epoch 37/50\n",
            "110/110 - 6s - 50ms/step - loss: 0.0692 - mean_absolute_error: 0.1626 - val_loss: 0.1278 - val_mean_absolute_error: 0.2367\n",
            "Epoch 38/50\n",
            "110/110 - 4s - 36ms/step - loss: 0.0718 - mean_absolute_error: 0.1616 - val_loss: 0.1263 - val_mean_absolute_error: 0.2272\n",
            "Epoch 39/50\n",
            "110/110 - 4s - 37ms/step - loss: 0.0633 - mean_absolute_error: 0.1564 - val_loss: 0.1272 - val_mean_absolute_error: 0.2441\n",
            "Epoch 40/50\n",
            "110/110 - 3s - 27ms/step - loss: 0.0538 - mean_absolute_error: 0.1458 - val_loss: 0.1287 - val_mean_absolute_error: 0.2283\n",
            "Epoch 41/50\n",
            "110/110 - 6s - 57ms/step - loss: 0.0621 - mean_absolute_error: 0.1519 - val_loss: 0.1186 - val_mean_absolute_error: 0.2171\n",
            "Epoch 42/50\n",
            "110/110 - 3s - 27ms/step - loss: 0.0647 - mean_absolute_error: 0.1568 - val_loss: 0.1230 - val_mean_absolute_error: 0.2186\n",
            "Epoch 43/50\n",
            "110/110 - 5s - 46ms/step - loss: 0.0716 - mean_absolute_error: 0.1584 - val_loss: 0.1265 - val_mean_absolute_error: 0.2305\n",
            "Epoch 44/50\n",
            "110/110 - 6s - 51ms/step - loss: 0.0654 - mean_absolute_error: 0.1547 - val_loss: 0.1324 - val_mean_absolute_error: 0.2339\n",
            "Epoch 45/50\n",
            "110/110 - 3s - 28ms/step - loss: 0.0643 - mean_absolute_error: 0.1479 - val_loss: 0.1259 - val_mean_absolute_error: 0.2226\n",
            "Epoch 46/50\n",
            "110/110 - 3s - 27ms/step - loss: 0.0660 - mean_absolute_error: 0.1545 - val_loss: 0.1299 - val_mean_absolute_error: 0.2298\n",
            "Epoch 47/50\n",
            "110/110 - 4s - 34ms/step - loss: 0.0564 - mean_absolute_error: 0.1403 - val_loss: 0.1279 - val_mean_absolute_error: 0.2270\n",
            "Epoch 48/50\n",
            "110/110 - 4s - 39ms/step - loss: 0.0535 - mean_absolute_error: 0.1390 - val_loss: 0.1267 - val_mean_absolute_error: 0.2256\n",
            "Epoch 49/50\n",
            "110/110 - 3s - 28ms/step - loss: 0.0620 - mean_absolute_error: 0.1523 - val_loss: 0.1251 - val_mean_absolute_error: 0.2324\n",
            "Epoch 50/50\n",
            "110/110 - 6s - 56ms/step - loss: 0.0562 - mean_absolute_error: 0.1404 - val_loss: 0.1261 - val_mean_absolute_error: 0.2246\n",
            "\u001b[1m40/40\u001b[0m \u001b[32m━━━━━━━━━━━━━━━━━━━━\u001b[0m\u001b[37m\u001b[0m \u001b[1m1s\u001b[0m 20ms/step\n"
          ]
        }
      ]
    },
    {
      "cell_type": "code",
      "source": [
        "import matplotlib.pyplot as plt\n",
        "plt.plot(target_pred, color = \"blue\")\n",
        "plt.plot(test_data_target, color = \"red\")\n",
        "plt.legend(['Predicted', 'Actual'])\n",
        "plt.title('Model accuracy')\n",
        "plt.ylabel('Values')\n",
        "plt.xlabel('Epoch')\n",
        "plt.show()"
      ],
      "metadata": {
        "id": "gc4mJS3gswhA",
        "colab": {
          "base_uri": "https://localhost:8080/",
          "height": 492
        },
        "outputId": "9754a463-3797-4162-bc27-6c5d0c8bbfa8"
      },
      "execution_count": null,
      "outputs": [
        {
          "output_type": "display_data",
          "data": {
            "text/plain": [
              "<Figure size 640x480 with 1 Axes>"
            ],
            "image/png": "[encoded data removed]"
          },
          "metadata": {}
        }
      ]
    },
    {
      "cell_type": "markdown",
      "source": [
        "My issue: I scaled my target variable"
      ],
      "metadata": {
        "id": "YvPlwq3CtTHh"
      }
    },
    {
      "cell_type": "code",
      "source": [
        "print(target_pred.shape)\n"
      ],
      "metadata": {
        "id": "YGgo91vHyrAA",
        "colab": {
          "base_uri": "https://localhost:8080/"
        },
        "outputId": "57192fcd-aef3-488a-9ce0-99c40136e694"
      },
      "execution_count": null,
      "outputs": [
        {
          "output_type": "stream",
          "name": "stdout",
          "text": [
            "(1255, 1)\n"
          ]
        }
      ]
    },
    {
      "cell_type": "code",
      "source": [
        "\n",
        "import matplotlib.pyplot as plt\n",
        "\n",
        "plt.plot(mae_scores)\n",
        "plt.title('Model MAE')\n",
        "plt.ylabel('MAE')\n",
        "plt.xlabel('Epoch/Iteration')  # Adjust label according to what the x-axis represents\n",
        "plt.show()\n"
      ],
      "metadata": {
        "id": "2OSknmannld_",
        "colab": {
          "base_uri": "https://localhost:8080/",
          "height": 492
        },
        "outputId": "2d5cc46f-2a31-4230-c500-a5a84be51d50"
      },
      "execution_count": null,
      "outputs": [
        {
          "output_type": "display_data",
          "data": {
            "text/plain": [
              "<Figure size 640x480 with 1 Axes>"
            ],
            "image/png": "[encoded data removed]"
          },
          "metadata": {}
        }
      ]
    },
    {
      "cell_type": "code",
      "source": [
        "original_mean = train_data['Weekly_Sales'].mean()\n",
        "original_std = train_data['Weekly_Sales'].std()"
      ],
      "metadata": {
        "id": "f0vbVgyYbdiW"
      },
      "execution_count": null,
      "outputs": []
    },
    {
      "cell_type": "code",
      "source": [
        "unscaled_target_pred = (target_pred * original_std) + original_mean\n",
        "unscaled_test_data_target = (test_data_target * original_std) + original_mean"
      ],
      "metadata": {
        "id": "xcSOX0KJbjFs"
      },
      "execution_count": null,
      "outputs": []
    },
    {
      "cell_type": "code",
      "source": [
        "plt.figure(figsize=(10,6))\n",
        "plt.plot(unscaled_target_pred, color = \"blue\")\n",
        "plt.plot(unscaled_test_data_target, color = \"red\")\n",
        "plt.legend(['Predicted', 'Actual'])\n",
        "plt.title('Model accuracy')\n",
        "plt.ylabel('Weekly Sales')\n",
        "plt.show()"
      ],
      "metadata": {
        "colab": {
          "base_uri": "https://localhost:8080/",
          "height": 565
        },
        "id": "CGdAoRvQeBvC",
        "outputId": "c8d38552-6dd8-4c67-e1d6-08fdb9646666"
      },
      "execution_count": null,
      "outputs": [
        {
          "output_type": "display_data",
          "data": {
            "text/plain": [
              "<Figure size 1000x600 with 1 Axes>"
            ],
            "image/png": "[encoded data removed]"
          },
          "metadata": {}
        }
      ]
    },
    {
      "cell_type": "code",
      "source": [
        "#Performance Metrics\n",
        "from sklearn.metrics import mean_squared_error, r2_score\n",
        "\n",
        "mse = mean_squared_error(unscaled_test_data_target, unscaled_target_pred)\n",
        "r2 = r2_score(unscaled_test_data_target, unscaled_target_pred)\n",
        "\n",
        "print(f\"Mean Squared Error: {mse}\")\n",
        "print(f\"R-squared: {r2}\")"
      ],
      "metadata": {
        "colab": {
          "base_uri": "https://localhost:8080/"
        },
        "id": "o-DymA0Bblki",
        "outputId": "234bd0eb-7b0a-4699-e9b3-d5fe100c25cf"
      },
      "execution_count": null,
      "outputs": [
        {
          "output_type": "stream",
          "name": "stdout",
          "text": [
            "Mean Squared Error: 63414195499.85522\n",
            "R-squared: 0.8000755895237734\n"
          ]
        }
      ]
    },
    {
      "cell_type": "code",
      "source": [],
      "metadata": {
        "id": "wYhhgFyECSo0"
      },
      "execution_count": null,
      "outputs": []
    },
    {
      "cell_type": "code",
      "source": [
        "from sklearn.metrics import root_mean_squared_error\n",
        "rmse = root_mean_squared_error(unscaled_test_data_target, unscaled_target_pred)\n",
        "print(rmse)"
      ],
      "metadata": {
        "colab": {
          "base_uri": "https://localhost:8080/"
        },
        "id": "uxuroq5LT4-t",
        "outputId": "68771eab-96e9-4402-ff91-e57d6eb5fe62"
      },
      "execution_count": null,
      "outputs": [
        {
          "output_type": "stream",
          "name": "stdout",
          "text": [
            "251821.7534286012\n"
          ]
        }
      ]
    },
    {
      "cell_type": "code",
      "source": [
        "from sklearn.metrics import mean_absolute_error\n",
        "mae = mean_absolute_error(unscaled_test_data_target, unscaled_target_pred)\n",
        "\n",
        "\n",
        "target_range = unscaled_test_data_target.max() - unscaled_test_data_target.min()\n",
        "\n",
        "\n",
        "nmae = mae / target_range\n",
        "\n",
        "print(f\"Mean Absolute Error (MAE): {mae}\")\n",
        "print(f\"Target Range: {target_range}\")\n",
        "print(f\"Normalized Mean Absolute Error (NMAE): {nmae}\")"
      ],
      "metadata": {
        "colab": {
          "base_uri": "https://localhost:8080/"
        },
        "id": "F7XCZz8_U31R",
        "outputId": "72897a45-f3f1-4d0b-cdab-1cec837a406d"
      },
      "execution_count": null,
      "outputs": [
        {
          "output_type": "stream",
          "name": "stdout",
          "text": [
            "Mean Absolute Error (MAE): 150679.5980069855\n",
            "Target Range: 2743018.7895055157\n",
            "Normalized Mean Absolute Error (NMAE): 0.05493203276020888\n"
          ]
        }
      ]
    },
    {
      "cell_type": "markdown",
      "source": [
        "\n",
        "\n",
        "\n",
        "for store, in store_dfs_train:\n",
        "  features_train, target_train = create_dataset(store_dfs_train[store],12)\n",
        "  features_test, target_test = create_dataset(store_dfs_test[store],12)\n",
        "\n",
        "  ft_train_reshaped = np.reshape(features_train, (45, 132, 11))\n",
        "  ft_test_reshaped = np.reshape(features_test, (45, 11, 11))\n",
        "\n",
        "  history = model.fit(ft_train_reshaped, trgt_train_reshaped, epochs=10, validation_data=(ft_test_reshaped, trgt_test_reshaped), verbose=2, shuffle=False)\n"
      ],
      "metadata": {
        "id": "if4XqiWeUMzy"
      }
    },
    {
      "cell_type": "code",
      "source": [
        "\"\"\"\n",
        "#optimize model, try out different parameters\n",
        "dropout_rates = [.1, .15, .2, .3]\n",
        "batches = [75, 100, 120]\n",
        "\n",
        "for dropout_rate in dropout_rates:\n",
        "  for batch_size in batches:\n",
        "      model = Sequential()\n",
        "      input = model.add(Input(shape=(50, 14)))\n",
        "      model.add(LSTM(batch_size, activation='tanh', dropout = dropout_rate))\n",
        "      #model.add(LSTM(100, activation='tanh', return_sequences=True))#per store, I will make 77 seperate sequences of 13 timestamps with 11 features per timestamp\n",
        "      #model.add(LSTM(100))\n",
        "      model.add(Dense(1))\n",
        "      #model.add(Dropout(0.2))\n",
        "      model.compile(optimizer = 'adam', loss='mean_squared_error', metrics=['mean_absolute_error'])\n",
        "\n",
        "      mae_scores = []\n",
        "      history = model.fit(\n",
        "          train_data_features,\n",
        "          train_data_target,\n",
        "          epochs=50,\n",
        "          validation_data=(val_data_features, val_data_target),\n",
        "          verbose=2,\n",
        "          shuffle=False,\n",
        "          callbacks=[\n",
        "              keras.callbacks.LambdaCallback(\n",
        "                  on_epoch_end=lambda epoch, logs: mae_scores.append(logs['val_mean_absolute_error'])\n",
        "              )\n",
        "          ]\n",
        "      )\n",
        "      #history = model.fit(train_data_features,train_data_target, epochs=50, validation_data=(val_data_features, val_data_target), verbose=2, shuffle=False)\n",
        "      target_pred = model.predict(test_data_features)\n",
        "      original_mean = train_data['Weekly_Sales'].mean()\n",
        "      original_std = train_data['Weekly_Sales'].std()\n",
        "      unscaled_target_pred = (target_pred * original_std) + original_mean\n",
        "      unscaled_test_data_target = (test_data_target * original_std) + original_mean\n",
        "\n",
        "\n",
        "      mse = mean_squared_error(unscaled_test_data_target, unscaled_target_pred)\n",
        "      r2 = r2_score(unscaled_test_data_target, unscaled_target_pred)\n",
        "\n",
        "      print(f\"Mean Squared Error: {mse}\")\n",
        "      print(f\"R-squared: {r2}\")\n",
        "      mae = mean_absolute_error(unscaled_test_data_target, unscaled_target_pred)\n",
        "\n",
        "      # Calculate target range\n",
        "      target_range = unscaled_test_data_target.max() - unscaled_test_data_target.min()\n",
        "\n",
        "      # Calculate NMAE\n",
        "      nmae = mae / target_range\n",
        "\n",
        "      print(f\"Mean Absolute Error (MAE): {mae}\")\n",
        "      print(f\"Target Range: {target_range}\")\n",
        "      print(f\"Normalized Mean Absolute Error (NMAE): {nmae}\")\n",
        "      print(f\"Dropout Rate  {dropout_rate}\")\n",
        "      print(f\"batch size  {batch_size}\")\n",
        "      print(\"\\n\\n\")\n",
        "\"\"\""
      ],
      "metadata": {
        "id": "zMi4dTyYrlhY",
        "colab": {
          "base_uri": "https://localhost:8080/",
          "height": 147
        },
        "outputId": "ae6ca2c9-a66b-442b-cb92-99987aaab5f5"
      },
      "execution_count": null,
      "outputs": [
        {
          "output_type": "execute_result",
          "data": {
            "text/plain": [
              "'\\n#optimize model\\ndropout_rates = [.1, .15, .2, .3]\\nbatches = [75, 100, 120]\\n\\nfor dropout_rate in dropout_rates:\\n  for batch_size in batches:\\n      model = Sequential()\\n      input = model.add(Input(shape=(50, 14)))\\n      model.add(LSTM(batch_size, activation=\\'tanh\\', dropout = dropout_rate))\\n      #model.add(LSTM(100, activation=\\'tanh\\', return_sequences=True))#per store, I will make 77 seperate sequences of 13 timestamps with 11 features per timestamp\\n      #model.add(LSTM(100))\\n      model.add(Dense(1))\\n      #model.add(Dropout(0.2))\\n      model.compile(optimizer = \\'adam\\', loss=\\'mean_squared_error\\', metrics=[\\'mean_absolute_error\\'])\\n\\n      mae_scores = []\\n      history = model.fit(\\n          train_data_features,\\n          train_data_target,\\n          epochs=50,\\n          validation_data=(val_data_features, val_data_target),\\n          verbose=2,\\n          shuffle=False,\\n          callbacks=[\\n              keras.callbacks.LambdaCallback(\\n                  on_epoch_end=lambda epoch, logs: mae_scores.append(logs[\\'val_mean_absolute_error\\'])\\n              )\\n          ]\\n      )\\n      #history = model.fit(train_data_features,train_data_target, epochs=50, validation_data=(val_data_features, val_data_target), verbose=2, shuffle=False)\\n      target_pred = model.predict(test_data_features)\\n      original_mean = train_data[\\'Weekly_Sales\\'].mean()\\n      original_std = train_data[\\'Weekly_Sales\\'].std()\\n      unscaled_target_pred = (target_pred * original_std) + original_mean\\n      unscaled_test_data_target = (test_data_target * original_std) + original_mean\\n\\n\\n      mse = mean_squared_error(unscaled_test_data_target, unscaled_target_pred)\\n      r2 = r2_score(unscaled_test_data_target, unscaled_target_pred)\\n\\n      print(f\"Mean Squared Error: {mse}\")\\n      print(f\"R-squared: {r2}\")\\n      mae = mean_absolute_error(unscaled_test_data_target, unscaled_target_pred)\\n\\n      # Calculate target range\\n      target_range = unscaled_test_data_target.max() - unscaled_test_data_target.min()\\n\\n      # Calculate NMAE\\n      nmae = mae / target_range\\n\\n      print(f\"Mean Absolute Error (MAE): {mae}\")\\n      print(f\"Target Range: {target_range}\")\\n      print(f\"Normalized Mean Absolute Error (NMAE): {nmae}\")\\n      print(f\"Dropout Rate  {dropout_rate}\")\\n      print(f\"batch size  {batch_size}\")\\n      print(\"\\n\\n\")\\n'"
            ],
            "application/vnd.google.colaboratory.intrinsic+json": {
              "type": "string"
            }
          },
          "metadata": {},
          "execution_count": 59
        }
      ]
    },
    {
      "cell_type": "markdown",
      "source": [
        "sources\n",
        "https://www.kaggle.com/code/shivajbd/input-and-output-shape-in-lstm-keras"
      ],
      "metadata": {
        "id": "YmaIN2ebrn7Y"
      }
    },
    {
      "cell_type": "markdown",
      "source": [
        "Mean Squared Error: 56249523165.49697\n",
        "R-squared: 0.8226634798440909\n",
        "Mean Absolute Error (MAE): 144669.53636264164\n",
        "Target Range: 2743018.7895055157\n",
        "Normalized Mean Absolute Error (NMAE): 0.052740993578363794\n",
        "Dropout Rate  0.1\n",
        "batch size  75\n",
        "\n",
        "Mean Squared Error: 61210237102.57868\n",
        "R-squared: 0.8070239562075492\n",
        "Mean Absolute Error (MAE): 149907.50067894292\n",
        "Target Range: 2743018.7895055157\n",
        "Normalized Mean Absolute Error (NMAE): 0.054650555531180575\n",
        "Dropout Rate  0.1\n",
        "batch size  100\n",
        "\n",
        "Mean Squared Error: 64597434915.509186\n",
        "R-squared: 0.7963452190481692\n",
        "Mean Absolute Error (MAE): 154618.08801591306\n",
        "Target Range: 2743018.7895055157\n",
        "Normalized Mean Absolute Error (NMAE): 0.056367855957627645\n",
        "Dropout Rate  0.1\n",
        "batch size  120\n",
        "\n",
        "Mean Squared Error: 63024123631.134384\n",
        "R-squared: 0.8013053597318895\n",
        "Mean Absolute Error (MAE): 164953.22401573326\n",
        "Target Range: 2743018.7895055157\n",
        "Normalized Mean Absolute Error (NMAE): 0.060135652240818\n",
        "Dropout Rate  0.15\n",
        "batch size  75\n",
        "\n",
        "Mean Squared Error: 65563346607.63483\n",
        "R-squared: 0.7933000124647197\n",
        "Mean Absolute Error (MAE): 163226.44161409908\n",
        "Target Range: 2743018.7895055157\n",
        "Normalized Mean Absolute Error (NMAE): 0.05950613325675539\n",
        "Dropout Rate  0.15\n",
        "batch size  100\n",
        "\n",
        "Mean Squared Error: 62926191695.33662\n",
        "R-squared: 0.8016141073928326\n",
        "Mean Absolute Error (MAE): 162053.12401027765\n",
        "Target Range: 2743018.7895055157\n",
        "Normalized Mean Absolute Error (NMAE): 0.059078386422387934\n",
        "Dropout Rate  0.15\n",
        "batch size  120\n",
        "\n",
        "Mean Squared Error: 67612220589.432175\n",
        "R-squared: 0.7868405766913549\n",
        "Mean Absolute Error (MAE): 173215.9907640191\n",
        "Target Range: 2743018.7895055157\n",
        "Normalized Mean Absolute Error (NMAE): 0.06314794175917576\n",
        "Dropout Rate  0.2\n",
        "batch size  75\n",
        "\n",
        "Mean Squared Error: 61916364260.84696\n",
        "R-squared: 0.8047977660820534\n",
        "Mean Absolute Error (MAE): 157505.48063091387\n",
        "Target Range: 2743018.7895055157\n",
        "Normalized Mean Absolute Error (NMAE): 0.057420489146305626\n",
        "Dropout Rate  0.2\n",
        "batch size  100\n",
        "\n",
        "Mean Squared Error: 62534064303.05929\n",
        "R-squared: 0.8028503580006765\n",
        "Mean Absolute Error (MAE): 164653.48742564805\n",
        "Target Range: 2743018.7895055157\n",
        "Normalized Mean Absolute Error (NMAE): 0.060026379715514146\n",
        "Dropout Rate  0.2\n",
        "batch size  120\n",
        "\n",
        "Mean Squared Error: 70821425106.05257\n",
        "R-squared: 0.7767229947205414\n",
        "Mean Absolute Error (MAE): 187360.86672178665\n",
        "Target Range: 2743018.7895055157\n",
        "Normalized Mean Absolute Error (NMAE): 0.06830462388322255\n",
        "Dropout Rate  0.3\n",
        "batch size  75\n",
        "\n",
        "Mean Squared Error: 71007220189.28703\n",
        "R-squared: 0.7761372430257949\n",
        "Mean Absolute Error (MAE): 186514.67144526477\n",
        "Target Range: 2743018.7895055157\n",
        "Normalized Mean Absolute Error (NMAE): 0.06799613336913664\n",
        "Dropout Rate  0.3\n",
        "batch size  100\n",
        "\n",
        "Mean Squared Error: 75199011286.91582\n",
        "R-squared: 0.7629218839500049\n",
        "Mean Absolute Error (MAE): 197250.1328798184\n",
        "Target Range: 2743018.7895055157\n",
        "Normalized Mean Absolute Error (NMAE): 0.07190987303276064\n",
        "Dropout Rate  0.3\n",
        "batch size  120"
      ],
      "metadata": {
        "id": "J3Vfy1BlEvxI"
      }
    }
  ]
}